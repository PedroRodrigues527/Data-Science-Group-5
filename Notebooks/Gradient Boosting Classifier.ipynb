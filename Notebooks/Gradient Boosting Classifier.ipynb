{
 "cells": [
  {
   "cell_type": "markdown",
   "metadata": {},
   "source": [
    "### Imports"
   ]
  },
  {
   "cell_type": "code",
   "execution_count": 8,
   "metadata": {
    "ExecuteTime": {
     "end_time": "2024-05-20T19:41:53.017279600Z",
     "start_time": "2024-05-20T19:41:52.982156600Z"
    }
   },
   "outputs": [],
   "source": [
    "\"\"\"\n",
    "GradientBoostingClassifier Boosting Algorithm\n",
    "\"\"\"\n",
    "from sklearn.ensemble import GradientBoostingClassifier\n",
    "from sklearn.preprocessing import LabelEncoder\n",
    "from sklearn.metrics import accuracy_score, confusion_matrix, precision_score, recall_score, f1_score, classification_report\n",
    "from plots import plot_confusion_matrix_general\n",
    "import pandas as pd\n",
    "from sklearn.model_selection import train_test_split"
   ]
  },
  {
   "cell_type": "markdown",
   "metadata": {},
   "source": [
    "### Train model function"
   ]
  },
  {
   "cell_type": "code",
   "execution_count": 9,
   "metadata": {
    "ExecuteTime": {
     "end_time": "2024-05-20T19:41:53.023784200Z",
     "start_time": "2024-05-20T19:41:52.986602700Z"
    }
   },
   "outputs": [],
   "source": [
    "def trainModel(X_train, y_train):\n",
    "    rf = GradientBoostingClassifier(n_estimators=100, random_state=42)\n",
    "    rf.fit(X_train, y_train)\n",
    "    return rf"
   ]
  },
  {
   "cell_type": "markdown",
   "metadata": {},
   "source": [
    "### Predict model function"
   ]
  },
  {
   "cell_type": "code",
   "execution_count": 10,
   "metadata": {
    "ExecuteTime": {
     "end_time": "2024-05-20T19:41:53.023784200Z",
     "start_time": "2024-05-20T19:41:52.990795500Z"
    }
   },
   "outputs": [],
   "source": [
    "def predictModel(model, X_test):\n",
    "    return model.predict(X_test)"
   ]
  },
  {
   "cell_type": "markdown",
   "metadata": {},
   "source": [
    "### Evalutate model function"
   ]
  },
  {
   "cell_type": "code",
   "execution_count": 11,
   "metadata": {
    "ExecuteTime": {
     "end_time": "2024-05-20T19:41:53.024798500Z",
     "start_time": "2024-05-20T19:41:52.994328200Z"
    }
   },
   "outputs": [],
   "source": [
    "def evaluateModel(y_test, y_pred):\n",
    "    accuracy = accuracy_score(y_test, y_pred)\n",
    "    precision = precision_score(y_test, y_pred, average='weighted')\n",
    "    recall = recall_score(y_test, y_pred, average='weighted')\n",
    "    f1 = f1_score(y_test, y_pred, average='weighted')\n",
    "    class_report = classification_report(y_test, y_pred)\n",
    "    return accuracy, precision, recall, f1, class_report"
   ]
  },
  {
   "cell_type": "markdown",
   "metadata": {},
   "source": [
    "### Display metrics function"
   ]
  },
  {
   "cell_type": "code",
   "execution_count": 12,
   "metadata": {
    "ExecuteTime": {
     "end_time": "2024-05-20T19:41:53.044825800Z",
     "start_time": "2024-05-20T19:41:52.999663Z"
    }
   },
   "outputs": [],
   "source": [
    "def displayMetrics(y_test, y_pred, accuracy, precision, recall, f1, class_report):\n",
    "    print(\"Accuracy: \", accuracy)\n",
    "    print(\"Precision: \", precision)\n",
    "    print(\"Recall: \", recall)\n",
    "    print(\"F1 Score: \", f1)\n",
    "    print(\"\\nClassification Report:\")\n",
    "    print(class_report)\n",
    "    print(\"\\nConfusion Matrix: \",confusion_matrix(y_test, y_pred))\n",
    "    plot_confusion_matrix_general(y_test, y_pred, ['1', '2'])"
   ]
  },
  {
   "cell_type": "markdown",
   "metadata": {},
   "source": [
    "### GradientBoostingClassifier function"
   ]
  },
  {
   "cell_type": "code",
   "execution_count": 13,
   "metadata": {
    "ExecuteTime": {
     "end_time": "2024-05-20T19:41:53.045826900Z",
     "start_time": "2024-05-20T19:41:53.005282Z"
    }
   },
   "outputs": [],
   "source": [
    "def gradientBoostingClassifier():\n",
    "    apples = pd.read_csv('../datasets/apple_quality_labels.csv')\n",
    "\n",
    "    label_encoder = LabelEncoder()\n",
    "    apples['Quality'] = label_encoder.fit_transform(apples['Quality'])\n",
    "\n",
    "    X = apples.drop(columns=['Quality'])\n",
    "    y = apples['Quality']\n",
    "\n",
    "    X_train, X_test, y_train, y_test = train_test_split(X, y, test_size=0.20, random_state=42)\n",
    "\n",
    "    model = trainModel(X_train, y_train)\n",
    "    y_pred = predictModel(model, X_test)\n",
    "    accuracy, precision, recall, f1, class_report = evaluateModel(y_test, y_pred)\n",
    "    displayMetrics(y_test, y_pred, accuracy, precision, recall, f1, class_report)"
   ]
  },
  {
   "cell_type": "markdown",
   "metadata": {},
   "source": [
    "### Start algorithm"
   ]
  },
  {
   "cell_type": "code",
   "execution_count": 14,
   "metadata": {
    "ExecuteTime": {
     "end_time": "2024-05-20T19:41:54.038412100Z",
     "start_time": "2024-05-20T19:41:53.007773500Z"
    }
   },
   "outputs": [
    {
     "name": "stdout",
     "output_type": "stream",
     "text": [
      "Accuracy:  0.87\n",
      "Precision:  0.87\n",
      "Recall:  0.87\n",
      "F1 Score:  0.87\n",
      "\n",
      "Classification Report:\n",
      "              precision    recall  f1-score   support\n",
      "\n",
      "           0       0.87      0.87      0.87       401\n",
      "           1       0.87      0.87      0.87       399\n",
      "\n",
      "    accuracy                           0.87       800\n",
      "   macro avg       0.87      0.87      0.87       800\n",
      "weighted avg       0.87      0.87      0.87       800\n",
      "\n",
      "\n",
      "Confusion Matrix:  [[349  52]\n",
      " [ 52 347]]\n"
     ]
    },
    {
     "data": {
      "text/plain": "<Figure size 800x600 with 2 Axes>",
      "image/png": "[encoded data removed]"
     },
     "metadata": {},
     "output_type": "display_data"
    }
   ],
   "source": [
    "gradientBoostingClassifier()"
   ]
  }
 ],
 "metadata": {
  "kernelspec": {
   "display_name": "Python 3",
   "language": "python",
   "name": "python3"
  },
  "language_info": {
   "codemirror_mode": {
    "name": "ipython",
    "version": 3
   },
   "file_extension": ".py",
   "mimetype": "text/x-python",
   "name": "python",
   "nbconvert_exporter": "python",
   "pygments_lexer": "ipython3",
   "version": "3.10.12"
  }
 },
 "nbformat": 4,
 "nbformat_minor": 2
}
