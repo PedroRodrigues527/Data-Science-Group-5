{
 "cells": [
  {
   "cell_type": "markdown",
   "source": [
    "### Import required libraries"
   ],
   "metadata": {
    "collapsed": false
   }
  },
  {
   "cell_type": "code",
   "execution_count": 27,
   "metadata": {
    "ExecuteTime": {
     "end_time": "2024-05-20T20:00:40.244312700Z",
     "start_time": "2024-05-20T20:00:40.188058200Z"
    }
   },
   "outputs": [],
   "source": [
    "import pandas as pd\n",
    "from sklearn.ensemble import RandomForestClassifier\n",
    "from sklearn.preprocessing import LabelEncoder\n",
    "from sklearn.metrics import accuracy_score, confusion_matrix, precision_score, recall_score, f1_score\n",
    "from sklearn.model_selection import RandomizedSearchCV, train_test_split\n",
    "from sklearn.tree import export_graphviz\n",
    "from IPython.display import Image\n",
    "from plots import plot_confusion_matrix_general\n",
    "from scipy.stats import randint\n",
    "import pydotplus\n"
   ]
  },
  {
   "cell_type": "markdown",
   "metadata": {},
   "source": [
    "### Define trainModel Function"
   ]
  },
  {
   "cell_type": "code",
   "execution_count": 28,
   "metadata": {
    "ExecuteTime": {
     "end_time": "2024-05-20T20:00:40.244312700Z",
     "start_time": "2024-05-20T20:00:40.193572Z"
    }
   },
   "outputs": [],
   "source": [
    "def trainModel(X_train, y_train, withHyperParameters=False):\n",
    "    rf = RandomForestClassifier(n_estimators=100, random_state=42)\n",
    "    if(withHyperParameters):\n",
    "        param_dist = {\n",
    "            'n_estimators': randint(50,500),\n",
    "            'max_depth'   : randint(1,20)\n",
    "        }\n",
    "        rand_search = RandomizedSearchCV(rf, param_dist, n_iter=5, cv=5)\n",
    "        rand_search.fit(X_train, y_train)\n",
    "        return rand_search\n",
    "    rf.fit(X_train, y_train)\n",
    "    return rf\n"
   ]
  },
  {
   "cell_type": "markdown",
   "metadata": {},
   "source": []
  },
  {
   "cell_type": "markdown",
   "metadata": {},
   "source": [
    "### Define predictModel Function"
   ]
  },
  {
   "cell_type": "code",
   "execution_count": 29,
   "metadata": {
    "ExecuteTime": {
     "end_time": "2024-05-20T20:00:40.245313400Z",
     "start_time": "2024-05-20T20:00:40.202396600Z"
    }
   },
   "outputs": [],
   "source": [
    "def predictModel(model, X_test):\n",
    "    return model.predict(X_test)"
   ]
  },
  {
   "cell_type": "markdown",
   "metadata": {},
   "source": [
    "### Define evaluateModel Function"
   ]
  },
  {
   "cell_type": "code",
   "execution_count": 30,
   "metadata": {
    "ExecuteTime": {
     "end_time": "2024-05-20T20:00:40.280717800Z",
     "start_time": "2024-05-20T20:00:40.207488200Z"
    }
   },
   "outputs": [],
   "source": [
    "def evaluateModel(y_test, y_pred):\n",
    "    accuracy = accuracy_score(y_test, y_pred)\n",
    "    precision = precision_score(y_test, y_pred, average='weighted')\n",
    "    recall = recall_score(y_test, y_pred, average='weighted')\n",
    "    f1 = f1_score(y_test, y_pred, average='weighted')\n",
    "    return accuracy, precision, recall, f1\n"
   ]
  },
  {
   "cell_type": "markdown",
   "metadata": {},
   "source": [
    "### Define displayMetrics Function"
   ]
  },
  {
   "cell_type": "code",
   "execution_count": 31,
   "metadata": {
    "ExecuteTime": {
     "end_time": "2024-05-20T20:00:40.282132600Z",
     "start_time": "2024-05-20T20:00:40.213774800Z"
    }
   },
   "outputs": [],
   "source": [
    "def displayMetrics(y_test, y_pred, accuracy, precision, recall, f1):\n",
    "    print(\"Accuracy: \", accuracy)\n",
    "    print(\"Precision: \", precision)\n",
    "    print(\"Recall: \", recall)\n",
    "    print(\"F1 Score: \", f1)\n",
    "    print(\"\\nConfusion Matrix: \",confusion_matrix(y_test, y_pred))\n",
    "    plot_confusion_matrix_general(y_test, y_pred, ['1', '2'])"
   ]
  },
  {
   "cell_type": "markdown",
   "metadata": {},
   "source": [
    "### Define display tree function"
   ]
  },
  {
   "cell_type": "code",
   "execution_count": 32,
   "metadata": {
    "ExecuteTime": {
     "end_time": "2024-05-20T20:00:40.282132600Z",
     "start_time": "2024-05-20T20:00:40.219151400Z"
    }
   },
   "outputs": [],
   "source": [
    "def display_tree(model, feature_names, class_names):\n",
    "    tree = model.estimators_[0]\n",
    "\n",
    "    dot_data = export_graphviz(tree, out_file=None, \n",
    "                               feature_names=feature_names, \n",
    "                               class_names=class_names,\n",
    "                               filled=True, \n",
    "                               rounded=True,\n",
    "                               max_depth=2,\n",
    "                               special_characters=True)\n",
    "\n",
    "    graph = pydotplus.graph_from_dot_data(dot_data)\n",
    "\n",
    "    Image(graph.create_png())\n",
    "\n",
    "    graph.write_png('../random_forest_tree/decision_tree.png')"
   ]
  },
  {
   "cell_type": "markdown",
   "metadata": {},
   "source": [
    "### Random Forest initialization function"
   ]
  },
  {
   "cell_type": "code",
   "execution_count": 33,
   "metadata": {
    "ExecuteTime": {
     "end_time": "2024-05-20T20:00:40.283132800Z",
     "start_time": "2024-05-20T20:00:40.225678400Z"
    }
   },
   "outputs": [],
   "source": [
    "def randomForest(hyperparameters=False):\n",
    "    apples = pd.read_csv('../datasets/apple_quality_labels.csv')\n",
    "\n",
    "    X = apples.drop(columns=['Quality'])\n",
    "    y = apples['Quality']\n",
    "\n",
    "    X_train, X_test, y_train, y_test = train_test_split(X, y, test_size=0.20, random_state=42)\n",
    "\n",
    "    model = trainModel(X_train, y_train, hyperparameters)\n",
    "    if(hyperparameters):\n",
    "        best_rf = model.best_estimator_\n",
    "        print(\"Best Parameters: \", model.best_params_)\n",
    "        print(\"best_rf: \", best_rf)\n",
    "        model = best_rf\n",
    "\n",
    "    y_pred = predictModel(model, X_test)\n",
    "    accuracy, precision, recall, f1 = evaluateModel(y_test, y_pred)\n",
    "    displayMetrics(y_test, y_pred, accuracy, precision, recall, f1)\n",
    "    display_tree(model, X_train.columns, [\"Bad\", \"Good\"])\n"
   ]
  },
  {
   "cell_type": "markdown",
   "metadata": {},
   "source": [
    "### Start Random Forest with no hyperparameters"
   ]
  },
  {
   "cell_type": "code",
   "execution_count": 34,
   "metadata": {
    "ExecuteTime": {
     "end_time": "2024-05-20T20:00:41.165411600Z",
     "start_time": "2024-05-20T20:00:40.230700100Z"
    }
   },
   "outputs": [
    {
     "name": "stdout",
     "output_type": "stream",
     "text": [
      "Accuracy:  0.89625\n",
      "Precision:  0.8963759189567654\n",
      "Recall:  0.89625\n",
      "F1 Score:  0.8962443259502325\n",
      "\n",
      "Confusion Matrix:  [[356  45]\n",
      " [ 38 361]]\n"
     ]
    },
    {
     "data": {
      "text/plain": "<Figure size 800x600 with 2 Axes>",
      "image/png": "[encoded data removed]"
     },
     "metadata": {},
     "output_type": "display_data"
    }
   ],
   "source": [
    "randomForest(False)"
   ]
  },
  {
   "cell_type": "markdown",
   "metadata": {},
   "source": [
    "### Start Random Forest with hyperparameters"
   ]
  },
  {
   "cell_type": "code",
   "execution_count": 35,
   "metadata": {
    "ExecuteTime": {
     "end_time": "2024-05-20T20:01:20.971926300Z",
     "start_time": "2024-05-20T20:00:41.165411600Z"
    }
   },
   "outputs": [
    {
     "name": "stdout",
     "output_type": "stream",
     "text": [
      "Best Parameters:  {'max_depth': 14, 'n_estimators': 437}\n",
      "best_rf:  RandomForestClassifier(max_depth=14, n_estimators=437, random_state=42)\n",
      "Accuracy:  0.91\n",
      "Precision:  0.9102620076413683\n",
      "Recall:  0.91\n",
      "F1 Score:  0.9099887488748876\n",
      "\n",
      "Confusion Matrix:  [[360  41]\n",
      " [ 31 368]]\n"
     ]
    },
    {
     "data": {
      "text/plain": "<Figure size 800x600 with 2 Axes>",
      "image/png": "[encoded data removed]"
     },
     "metadata": {},
     "output_type": "display_data"
    }
   ],
   "source": [
    "randomForest(True)"
   ]
  }
 ],
 "metadata": {
  "kernelspec": {
   "display_name": "Python 3",
   "language": "python",
   "name": "python3"
  },
  "language_info": {
   "codemirror_mode": {
    "name": "ipython",
    "version": 3
   },
   "file_extension": ".py",
   "mimetype": "text/x-python",
   "name": "python",
   "nbconvert_exporter": "python",
   "pygments_lexer": "ipython3",
   "version": "3.10.12"
  }
 },
 "nbformat": 4,
 "nbformat_minor": 2
}
