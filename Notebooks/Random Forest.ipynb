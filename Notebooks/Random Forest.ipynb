{
 "cells": [
  {
   "cell_type": "markdown",
   "metadata": {},
   "source": [
    "### Import required libraries"
   ]
  },
  {
   "cell_type": "code",
   "execution_count": 1,
   "metadata": {
    "ExecuteTime": {
     "end_time": "2024-05-22T20:40:49.123574800Z",
     "start_time": "2024-05-22T20:40:48.854417Z"
    }
   },
   "outputs": [],
   "source": [
    "import pandas as pd\n",
    "from sklearn.ensemble import RandomForestClassifier\n",
    "from sklearn.preprocessing import LabelEncoder\n",
    "from sklearn.metrics import accuracy_score, confusion_matrix, precision_score, recall_score, f1_score\n",
    "from sklearn.model_selection import RandomizedSearchCV, train_test_split\n",
    "from sklearn.tree import export_graphviz\n",
    "from IPython.display import Image\n",
    "from scipy.stats import randint\n",
    "import pydotplus\n",
    "import sys\n",
    "import matplotlib.pyplot as plt\n",
    "import seaborn as sns\n"
   ]
  },
  {
   "cell_type": "markdown",
   "metadata": {},
   "source": [
    "### Define trainModel Function"
   ]
  },
  {
   "cell_type": "code",
   "execution_count": 2,
   "metadata": {
    "ExecuteTime": {
     "end_time": "2024-05-22T20:40:49.128360Z",
     "start_time": "2024-05-22T20:40:49.123574800Z"
    }
   },
   "outputs": [],
   "source": [
    "def trainModel(X_train, y_train, withHyperParameters=False):\n",
    "    rf = RandomForestClassifier(n_estimators=100, random_state=42)\n",
    "    if(withHyperParameters):\n",
    "        param_dist = {\n",
    "            'n_estimators': randint(50,500),\n",
    "            'max_depth'   : randint(1,20)\n",
    "        }\n",
    "        rand_search = RandomizedSearchCV(rf, param_dist, n_iter=5, cv=5)\n",
    "        rand_search.fit(X_train, y_train)\n",
    "        return rand_search\n",
    "    rf.fit(X_train, y_train)\n",
    "    return rf\n"
   ]
  },
  {
   "cell_type": "markdown",
   "metadata": {},
   "source": [
    "### Define predictModel Function"
   ]
  },
  {
   "cell_type": "code",
   "execution_count": 3,
   "metadata": {
    "ExecuteTime": {
     "end_time": "2024-05-22T20:40:49.132625Z",
     "start_time": "2024-05-22T20:40:49.128360Z"
    }
   },
   "outputs": [],
   "source": [
    "def predictModel(model, X_test):\n",
    "    return model.predict(X_test)"
   ]
  },
  {
   "cell_type": "markdown",
   "metadata": {},
   "source": [
    "### Define evaluateModel Function"
   ]
  },
  {
   "cell_type": "code",
   "execution_count": 4,
   "metadata": {
    "ExecuteTime": {
     "end_time": "2024-05-22T20:40:49.138424400Z",
     "start_time": "2024-05-22T20:40:49.133625900Z"
    }
   },
   "outputs": [],
   "source": [
    "def evaluateModel(y_test, y_pred):\n",
    "    accuracy = accuracy_score(y_test, y_pred)\n",
    "    precision = precision_score(y_test, y_pred, average='weighted')\n",
    "    recall = recall_score(y_test, y_pred, average='weighted')\n",
    "    f1 = f1_score(y_test, y_pred, average='weighted')\n",
    "    return accuracy, precision, recall, f1\n"
   ]
  },
  {
   "cell_type": "markdown",
   "metadata": {},
   "source": [
    "### Define displayMetrics Function"
   ]
  },
  {
   "cell_type": "code",
   "execution_count": 5,
   "metadata": {
    "ExecuteTime": {
     "end_time": "2024-05-22T20:40:49.142150600Z",
     "start_time": "2024-05-22T20:40:49.138424400Z"
    }
   },
   "outputs": [],
   "source": [
    "def plot_confusion_matrix_general(y_true, y_pred, classes):\n",
    "    cm = confusion_matrix(y_true, y_pred)\n",
    "    plt.figure(figsize=(8, 6))\n",
    "    sns.heatmap(cm, annot=True, fmt='d', cmap='Blues', xticklabels=classes, yticklabels=classes)\n",
    "    plt.xlabel('Predicted labels')\n",
    "    plt.ylabel('True labels')\n",
    "    plt.title('Confusion Matrix')\n",
    "    plt.show()"
   ]
  },
  {
   "cell_type": "code",
   "execution_count": 6,
   "metadata": {
    "ExecuteTime": {
     "end_time": "2024-05-22T20:40:49.146727800Z",
     "start_time": "2024-05-22T20:40:49.143151Z"
    }
   },
   "outputs": [],
   "source": [
    "def displayMetrics(y_test, y_pred, accuracy, precision, recall, f1):\n",
    "    print(\"Accuracy: \", accuracy)\n",
    "    print(\"Precision: \", precision)\n",
    "    print(\"Recall: \", recall)\n",
    "    print(\"F1 Score: \", f1)\n",
    "    print(\"\\nConfusion Matrix: \",confusion_matrix(y_test, y_pred))\n",
    "    plot_confusion_matrix_general(y_test, y_pred, ['1', '2'])"
   ]
  },
  {
   "cell_type": "markdown",
   "metadata": {},
   "source": [
    "### Define display tree function"
   ]
  },
  {
   "cell_type": "code",
   "execution_count": 7,
   "metadata": {
    "ExecuteTime": {
     "end_time": "2024-05-22T20:40:49.165389900Z",
     "start_time": "2024-05-22T20:40:49.146727800Z"
    }
   },
   "outputs": [],
   "source": [
    "def display_tree(model, feature_names, class_names):\n",
    "    tree = model.estimators_[0]\n",
    "\n",
    "    dot_data = export_graphviz(tree, out_file=None, \n",
    "                               feature_names=feature_names, \n",
    "                               class_names=class_names,\n",
    "                               filled=True, \n",
    "                               rounded=True,\n",
    "                               max_depth=2,\n",
    "                               special_characters=True)\n",
    "\n",
    "    graph = pydotplus.graph_from_dot_data(dot_data)\n",
    "\n",
    "    Image(graph.create_png())\n",
    "\n",
    "    graph.write_png('../random_forest_tree/decision_tree.png')"
   ]
  },
  {
   "cell_type": "markdown",
   "metadata": {},
   "source": [
    "### Random Forest initialization function"
   ]
  },
  {
   "cell_type": "code",
   "execution_count": 8,
   "metadata": {
    "ExecuteTime": {
     "end_time": "2024-05-22T20:40:49.165389900Z",
     "start_time": "2024-05-22T20:40:49.154691900Z"
    }
   },
   "outputs": [],
   "source": [
    "def randomForest(hyperparameters=False):\n",
    "    apples = pd.read_csv('../datasets/apple_quality_no_id.csv')\n",
    "\n",
    "    label_encoder = LabelEncoder()\n",
    "    apples['Quality'] = label_encoder.fit_transform(apples['Quality'])\n",
    "\n",
    "    X = apples.drop(columns=['Quality'])\n",
    "    y = apples['Quality']\n",
    "\n",
    "    X_train, X_test, y_train, y_test = train_test_split(X, y, test_size=0.20, random_state=42)\n",
    "\n",
    "    model = trainModel(X_train, y_train, hyperparameters)\n",
    "    if(hyperparameters):\n",
    "        best_rf = model.best_estimator_\n",
    "        print(\"Best Parameters: \", model.best_params_)\n",
    "        print(\"best_rf: \", best_rf)\n",
    "        model = best_rf\n",
    "\n",
    "    y_pred = predictModel(model, X_test)\n",
    "    accuracy, precision, recall, f1 = evaluateModel(y_test, y_pred)\n",
    "    displayMetrics(y_test, y_pred, accuracy, precision, recall, f1)\n",
    "    display_tree(model, X_train.columns, label_encoder.classes_)\n"
   ]
  },
  {
   "cell_type": "markdown",
   "metadata": {},
   "source": [
    "### Start Random Forest with no hyperparameters"
   ]
  },
  {
   "cell_type": "code",
   "execution_count": 9,
   "metadata": {
    "ExecuteTime": {
     "end_time": "2024-05-22T20:40:50.412934700Z",
     "start_time": "2024-05-22T20:40:49.158167400Z"
    }
   },
   "outputs": [
    {
     "name": "stdout",
     "output_type": "stream",
     "text": [
      "Accuracy:  0.8925\n",
      "Precision:  0.8925\n",
      "Recall:  0.8925\n",
      "F1 Score:  0.8925\n",
      "\n",
      "Confusion Matrix:  [[358  43]\n",
      " [ 43 356]]\n"
     ]
    },
    {
     "data": {
      "text/plain": "<Figure size 800x600 with 2 Axes>",
      "image/png": "[encoded data removed]"
     },
     "metadata": {},
     "output_type": "display_data"
    }
   ],
   "source": [
    "randomForest(False)"
   ]
  },
  {
   "cell_type": "markdown",
   "metadata": {},
   "source": [
    "### Start Random Forest with hyperparameters"
   ]
  },
  {
   "cell_type": "code",
   "execution_count": 10,
   "metadata": {
    "ExecuteTime": {
     "end_time": "2024-05-22T20:41:19.184469600Z",
     "start_time": "2024-05-22T20:40:50.411934400Z"
    }
   },
   "outputs": [
    {
     "name": "stdout",
     "output_type": "stream",
     "text": [
      "Best Parameters:  {'max_depth': 15, 'n_estimators': 418}\n",
      "best_rf:  RandomForestClassifier(max_depth=15, n_estimators=418, random_state=42)\n",
      "Accuracy:  0.905\n",
      "Precision:  0.9053719062541046\n",
      "Recall:  0.905\n",
      "F1 Score:  0.9049821847163619\n",
      "\n",
      "Confusion Matrix:  [[357  44]\n",
      " [ 32 367]]\n"
     ]
    },
    {
     "data": {
      "text/plain": "<Figure size 800x600 with 2 Axes>",
      "image/png": "[encoded data removed]"
     },
     "metadata": {},
     "output_type": "display_data"
    }
   ],
   "source": [
    "randomForest(True)"
   ]
  }
 ],
 "metadata": {
  "kernelspec": {
   "display_name": "Python 3",
   "language": "python",
   "name": "python3"
  },
  "language_info": {
   "codemirror_mode": {
    "name": "ipython",
    "version": 3
   },
   "file_extension": ".py",
   "mimetype": "text/x-python",
   "name": "python",
   "nbconvert_exporter": "python",
   "pygments_lexer": "ipython3",
   "version": "3.10.11"
  }
 },
 "nbformat": 4,
 "nbformat_minor": 2
}
